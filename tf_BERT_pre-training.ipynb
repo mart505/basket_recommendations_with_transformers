{
 "cells": [
  {
   "cell_type": "markdown",
   "metadata": {
    "id": "wZWH6TUGM6rB"
   },
   "source": [
    "# **Import packages**"
   ]
  },
  {
   "cell_type": "code",
   "execution_count": 3,
   "metadata": {
    "executionInfo": {
     "elapsed": 13342,
     "status": "ok",
     "timestamp": 1646476513953,
     "user": {
      "displayName": "Maarten de Ruiter",
      "photoUrl": "https://lh3.googleusercontent.com/a/default-user=s64",
      "userId": "02394617415385259921"
     },
     "user_tz": -60
    },
    "id": "MhPiWNheNaw1"
   },
   "outputs": [],
   "source": [
    "import tensorflow as tf\n",
    "\n",
    "from tokenizers.processors import TemplateProcessing\n",
    "from tokenizers.pre_tokenizers import WhitespaceSplit\n",
    "from tokenizers.models import BPE, WordLevel\n",
    "from tokenizers import Tokenizer\n",
    "from tokenizers.trainers import BpeTrainer, WordLevelTrainer\n",
    "from transformers import PreTrainedTokenizerFast, BertForPreTraining, AdamWeightDecay\n",
    "from tokenizers.decoders import ByteLevel as ByteLevelDecoder\n",
    "\n",
    "from transformers import GPT2Config, GPT2LMHeadModel, GPT2Tokenizer, GPT2Model\n",
    "\n",
    "import random\n",
    "from math import *\n",
    "\n",
    "import pandas as pd\n",
    "import numpy as np\n",
    "\n",
    "import os\n",
    "os.environ['KMP_DUPLICATE_LIB_OK']='True'"
   ]
  },
  {
   "cell_type": "code",
   "execution_count": 4,
   "metadata": {
    "executionInfo": {
     "elapsed": 6,
     "status": "ok",
     "timestamp": 1646476513954,
     "user": {
      "displayName": "Maarten de Ruiter",
      "photoUrl": "https://lh3.googleusercontent.com/a/default-user=s64",
      "userId": "02394617415385259921"
     },
     "user_tz": -60
    },
    "id": "uOvhuYP1mCoS"
   },
   "outputs": [],
   "source": [
    "from tqdm import tqdm, notebook\n",
    "tqdm.pandas()"
   ]
  },
  {
   "cell_type": "markdown",
   "metadata": {
    "id": "CtgDA4KBNelG"
   },
   "source": [
    "# **Import data**"
   ]
  },
  {
   "cell_type": "code",
   "execution_count": null,
   "metadata": {},
   "outputs": [],
   "source": [
    "TRAIN_PATH = 'TRAIN_PATH' \n",
    "TOKENIZER_PATH = 'TOKENIZER_PATH'\n",
    "CHECKPOINTS_PATH = 'CHECKPOINTS_PATH'"
   ]
  },
  {
   "cell_type": "code",
   "execution_count": 5,
   "metadata": {
    "executionInfo": {
     "elapsed": 2696,
     "status": "ok",
     "timestamp": 1646476516647,
     "user": {
      "displayName": "Maarten de Ruiter",
      "photoUrl": "https://lh3.googleusercontent.com/a/default-user=s64",
      "userId": "02394617415385259921"
     },
     "user_tz": -60
    },
    "id": "T5Rzu-K3NhFY",
    "tags": []
   },
   "outputs": [],
   "source": [
    "df= pd.read_csv(TRAIN_PATH, header=None, nrows=1250000)\n",
    "df.columns = [\"baskets\"]"
   ]
  },
  {
   "cell_type": "code",
   "execution_count": 7,
   "metadata": {
    "executionInfo": {
     "elapsed": 22,
     "status": "ok",
     "timestamp": 1646476516648,
     "user": {
      "displayName": "Maarten de Ruiter",
      "photoUrl": "https://lh3.googleusercontent.com/a/default-user=s64",
      "userId": "02394617415385259921"
     },
     "user_tz": -60
    },
    "id": "NjsnjdkmnjSX"
   },
   "outputs": [],
   "source": [
    "df_org = df"
   ]
  },
  {
   "cell_type": "code",
   "execution_count": 8,
   "metadata": {
    "colab": {
     "base_uri": "https://localhost:8080/"
    },
    "executionInfo": {
     "elapsed": 21,
     "status": "ok",
     "timestamp": 1646476516648,
     "user": {
      "displayName": "Maarten de Ruiter",
      "photoUrl": "https://lh3.googleusercontent.com/a/default-user=s64",
      "userId": "02394617415385259921"
     },
     "user_tz": -60
    },
    "id": "tgkk8psFOjPa",
    "outputId": "5ccf78b9-d995-42aa-f8e8-4c22394446c6"
   },
   "outputs": [
    {
     "name": "stdout",
     "output_type": "stream",
     "text": [
      "<class 'pandas.core.frame.DataFrame'>\n",
      "RangeIndex: 1250000 entries, 0 to 1249999\n",
      "Data columns (total 1 columns):\n",
      " #   Column   Non-Null Count    Dtype \n",
      "---  ------   --------------    ----- \n",
      " 0   baskets  1250000 non-null  object\n",
      "dtypes: object(1)\n",
      "memory usage: 9.5+ MB\n"
     ]
    }
   ],
   "source": [
    "df_org.info()"
   ]
  },
  {
   "cell_type": "code",
   "execution_count": 9,
   "metadata": {
    "colab": {
     "base_uri": "https://localhost:8080/",
     "height": 359
    },
    "executionInfo": {
     "elapsed": 19,
     "status": "ok",
     "timestamp": 1646476516648,
     "user": {
      "displayName": "Maarten de Ruiter",
      "photoUrl": "https://lh3.googleusercontent.com/a/default-user=s64",
      "userId": "02394617415385259921"
     },
     "user_tz": -60
    },
    "id": "YnKntiV-Oq8_",
    "outputId": "72e5c5e3-b578-436f-eaa8-2966e47d789d"
   },
   "outputs": [
    {
     "data": {
      "text/html": [
       "\n",
       "  <div id=\"df-0bf1e2a5-1425-41da-9c09-d7cef73d10ac\">\n",
       "    <div class=\"colab-df-container\">\n",
       "      <div>\n",
       "<style scoped>\n",
       "    .dataframe tbody tr th:only-of-type {\n",
       "        vertical-align: middle;\n",
       "    }\n",
       "\n",
       "    .dataframe tbody tr th {\n",
       "        vertical-align: top;\n",
       "    }\n",
       "\n",
       "    .dataframe thead th {\n",
       "        text-align: right;\n",
       "    }\n",
       "</style>\n",
       "<table border=\"1\" class=\"dataframe\">\n",
       "  <thead>\n",
       "    <tr style=\"text-align: right;\">\n",
       "      <th></th>\n",
       "      <th>baskets</th>\n",
       "    </tr>\n",
       "  </thead>\n",
       "  <tbody>\n",
       "    <tr>\n",
       "      <th>0</th>\n",
       "      <td>94782 100232 495314 169797 111388 129242 20683...</td>\n",
       "    </tr>\n",
       "    <tr>\n",
       "      <th>1</th>\n",
       "      <td>164919 96398 415059 447741 189105</td>\n",
       "    </tr>\n",
       "    <tr>\n",
       "      <th>2</th>\n",
       "      <td>195653 215707 169115 4011 111740 132045 187588...</td>\n",
       "    </tr>\n",
       "    <tr>\n",
       "      <th>3</th>\n",
       "      <td>494121 168990</td>\n",
       "    </tr>\n",
       "    <tr>\n",
       "      <th>4</th>\n",
       "      <td>435755 217957 366767 365954 193449 446406 1231...</td>\n",
       "    </tr>\n",
       "    <tr>\n",
       "      <th>5</th>\n",
       "      <td>222368 480029 440742 3632 379359</td>\n",
       "    </tr>\n",
       "    <tr>\n",
       "      <th>6</th>\n",
       "      <td>472483 224876 195643 124189</td>\n",
       "    </tr>\n",
       "    <tr>\n",
       "      <th>7</th>\n",
       "      <td>502400 478351 451524</td>\n",
       "    </tr>\n",
       "    <tr>\n",
       "      <th>8</th>\n",
       "      <td>389243 119017 174017 143099 168925 206745 4367...</td>\n",
       "    </tr>\n",
       "    <tr>\n",
       "      <th>9</th>\n",
       "      <td>47354 475092 101170 165583 47366 101170 211023...</td>\n",
       "    </tr>\n",
       "  </tbody>\n",
       "</table>\n",
       "</div>\n",
       "      <button class=\"colab-df-convert\" onclick=\"convertToInteractive('df-0bf1e2a5-1425-41da-9c09-d7cef73d10ac')\"\n",
       "              title=\"Convert this dataframe to an interactive table.\"\n",
       "              style=\"display:none;\">\n",
       "        \n",
       "  <svg xmlns=\"http://www.w3.org/2000/svg\" height=\"24px\"viewBox=\"0 0 24 24\"\n",
       "       width=\"24px\">\n",
       "    <path d=\"M0 0h24v24H0V0z\" fill=\"none\"/>\n",
       "    <path d=\"M18.56 5.44l.94 2.06.94-2.06 2.06-.94-2.06-.94-.94-2.06-.94 2.06-2.06.94zm-11 1L8.5 8.5l.94-2.06 2.06-.94-2.06-.94L8.5 2.5l-.94 2.06-2.06.94zm10 10l.94 2.06.94-2.06 2.06-.94-2.06-.94-.94-2.06-.94 2.06-2.06.94z\"/><path d=\"M17.41 7.96l-1.37-1.37c-.4-.4-.92-.59-1.43-.59-.52 0-1.04.2-1.43.59L10.3 9.45l-7.72 7.72c-.78.78-.78 2.05 0 2.83L4 21.41c.39.39.9.59 1.41.59.51 0 1.02-.2 1.41-.59l7.78-7.78 2.81-2.81c.8-.78.8-2.07 0-2.86zM5.41 20L4 18.59l7.72-7.72 1.47 1.35L5.41 20z\"/>\n",
       "  </svg>\n",
       "      </button>\n",
       "      \n",
       "  <style>\n",
       "    .colab-df-container {\n",
       "      display:flex;\n",
       "      flex-wrap:wrap;\n",
       "      gap: 12px;\n",
       "    }\n",
       "\n",
       "    .colab-df-convert {\n",
       "      background-color: #E8F0FE;\n",
       "      border: none;\n",
       "      border-radius: 50%;\n",
       "      cursor: pointer;\n",
       "      display: none;\n",
       "      fill: #1967D2;\n",
       "      height: 32px;\n",
       "      padding: 0 0 0 0;\n",
       "      width: 32px;\n",
       "    }\n",
       "\n",
       "    .colab-df-convert:hover {\n",
       "      background-color: #E2EBFA;\n",
       "      box-shadow: 0px 1px 2px rgba(60, 64, 67, 0.3), 0px 1px 3px 1px rgba(60, 64, 67, 0.15);\n",
       "      fill: #174EA6;\n",
       "    }\n",
       "\n",
       "    [theme=dark] .colab-df-convert {\n",
       "      background-color: #3B4455;\n",
       "      fill: #D2E3FC;\n",
       "    }\n",
       "\n",
       "    [theme=dark] .colab-df-convert:hover {\n",
       "      background-color: #434B5C;\n",
       "      box-shadow: 0px 1px 3px 1px rgba(0, 0, 0, 0.15);\n",
       "      filter: drop-shadow(0px 1px 2px rgba(0, 0, 0, 0.3));\n",
       "      fill: #FFFFFF;\n",
       "    }\n",
       "  </style>\n",
       "\n",
       "      <script>\n",
       "        const buttonEl =\n",
       "          document.querySelector('#df-0bf1e2a5-1425-41da-9c09-d7cef73d10ac button.colab-df-convert');\n",
       "        buttonEl.style.display =\n",
       "          google.colab.kernel.accessAllowed ? 'block' : 'none';\n",
       "\n",
       "        async function convertToInteractive(key) {\n",
       "          const element = document.querySelector('#df-0bf1e2a5-1425-41da-9c09-d7cef73d10ac');\n",
       "          const dataTable =\n",
       "            await google.colab.kernel.invokeFunction('convertToInteractive',\n",
       "                                                     [key], {});\n",
       "          if (!dataTable) return;\n",
       "\n",
       "          const docLinkHtml = 'Like what you see? Visit the ' +\n",
       "            '<a target=\"_blank\" href=https://colab.research.google.com/notebooks/data_table.ipynb>data table notebook</a>'\n",
       "            + ' to learn more about interactive tables.';\n",
       "          element.innerHTML = '';\n",
       "          dataTable['output_type'] = 'display_data';\n",
       "          await google.colab.output.renderOutput(dataTable, element);\n",
       "          const docLink = document.createElement('div');\n",
       "          docLink.innerHTML = docLinkHtml;\n",
       "          element.appendChild(docLink);\n",
       "        }\n",
       "      </script>\n",
       "    </div>\n",
       "  </div>\n",
       "  "
      ],
      "text/plain": [
       "                                             baskets\n",
       "0  94782 100232 495314 169797 111388 129242 20683...\n",
       "1                  164919 96398 415059 447741 189105\n",
       "2  195653 215707 169115 4011 111740 132045 187588...\n",
       "3                                      494121 168990\n",
       "4  435755 217957 366767 365954 193449 446406 1231...\n",
       "5                   222368 480029 440742 3632 379359\n",
       "6                        472483 224876 195643 124189\n",
       "7                               502400 478351 451524\n",
       "8  389243 119017 174017 143099 168925 206745 4367...\n",
       "9  47354 475092 101170 165583 47366 101170 211023..."
      ]
     },
     "execution_count": 9,
     "metadata": {},
     "output_type": "execute_result"
    }
   ],
   "source": [
    "df_org.head(10)"
   ]
  },
  {
   "cell_type": "code",
   "execution_count": 12,
   "metadata": {
    "executionInfo": {
     "elapsed": 4,
     "status": "ok",
     "timestamp": 1646476516975,
     "user": {
      "displayName": "Maarten de Ruiter",
      "photoUrl": "https://lh3.googleusercontent.com/a/default-user=s64",
      "userId": "02394617415385259921"
     },
     "user_tz": -60
    },
    "id": "zNAlPxvUPAKj"
   },
   "outputs": [],
   "source": [
    "baskets = df_org['baskets'].to_list()"
   ]
  },
  {
   "cell_type": "code",
   "execution_count": 13,
   "metadata": {
    "executionInfo": {
     "elapsed": 829,
     "status": "ok",
     "timestamp": 1646476517801,
     "user": {
      "displayName": "Maarten de Ruiter",
      "photoUrl": "https://lh3.googleusercontent.com/a/default-user=s64",
      "userId": "02394617415385259921"
     },
     "user_tz": -60
    },
    "id": "CJiO9GgS3y5m"
   },
   "outputs": [],
   "source": [
    "txt_file = open(\"/tmp/baskets.txt\", \"w\")\n",
    "for element in baskets:\n",
    "    txt_file.write(element + \"\\n\")\n",
    "txt_file.close()"
   ]
  },
  {
   "cell_type": "code",
   "execution_count": 14,
   "metadata": {
    "executionInfo": {
     "elapsed": 8266,
     "status": "ok",
     "timestamp": 1646476526062,
     "user": {
      "displayName": "Maarten de Ruiter",
      "photoUrl": "https://lh3.googleusercontent.com/a/default-user=s64",
      "userId": "02394617415385259921"
     },
     "user_tz": -60
    },
    "id": "Olts4Lh4njSa"
   },
   "outputs": [],
   "source": [
    "baskets_set = [basket.split() for basket in baskets]"
   ]
  },
  {
   "cell_type": "code",
   "execution_count": 15,
   "metadata": {
    "executionInfo": {
     "elapsed": 1024,
     "status": "ok",
     "timestamp": 1646476527075,
     "user": {
      "displayName": "Maarten de Ruiter",
      "photoUrl": "https://lh3.googleusercontent.com/a/default-user=s64",
      "userId": "02394617415385259921"
     },
     "user_tz": -60
    },
    "id": "4V3r6XcknjSa"
   },
   "outputs": [],
   "source": [
    "basket_items = []\n",
    "\n",
    "for basket in baskets_set:\n",
    "    basket_items.extend(basket)"
   ]
  },
  {
   "cell_type": "code",
   "execution_count": 16,
   "metadata": {
    "colab": {
     "base_uri": "https://localhost:8080/"
    },
    "executionInfo": {
     "elapsed": 3428,
     "status": "ok",
     "timestamp": 1646476530493,
     "user": {
      "displayName": "Maarten de Ruiter",
      "photoUrl": "https://lh3.googleusercontent.com/a/default-user=s64",
      "userId": "02394617415385259921"
     },
     "user_tz": -60
    },
    "id": "BS5Z3C7OnjSb",
    "outputId": "9233601c-1264-4b7c-b068-e0d1956dfd0f"
   },
   "outputs": [
    {
     "name": "stdout",
     "output_type": "stream",
     "text": [
      "26619 unique items in baskets...\n"
     ]
    }
   ],
   "source": [
    "words = len(set(basket_items))\n",
    "print(f'{words} unique items in baskets...')"
   ]
  },
  {
   "cell_type": "markdown",
   "metadata": {
    "id": "JdenVCdZnjSb"
   },
   "source": [
    "## **Duplicates**"
   ]
  },
  {
   "cell_type": "code",
   "execution_count": 17,
   "metadata": {
    "executionInfo": {
     "elapsed": 11,
     "status": "ok",
     "timestamp": 1646476530493,
     "user": {
      "displayName": "Maarten de Ruiter",
      "photoUrl": "https://lh3.googleusercontent.com/a/default-user=s64",
      "userId": "02394617415385259921"
     },
     "user_tz": -60
    },
    "id": "-qBusbxanjSb"
   },
   "outputs": [],
   "source": [
    "# #baskets = list(df_org['prod_series_cln'])\n",
    "# product_cnt = {}\n",
    "\n",
    "# for basket in tqdm(baskets):\n",
    "#     items = basket.split()\n",
    "#     for item in items:\n",
    "#         if item not in product_cnt:\n",
    "#             product_cnt[item] = 1\n",
    "#         else:\n",
    "#             product_cnt[item] += 1"
   ]
  },
  {
   "cell_type": "code",
   "execution_count": 18,
   "metadata": {
    "executionInfo": {
     "elapsed": 7,
     "status": "ok",
     "timestamp": 1646476530493,
     "user": {
      "displayName": "Maarten de Ruiter",
      "photoUrl": "https://lh3.googleusercontent.com/a/default-user=s64",
      "userId": "02394617415385259921"
     },
     "user_tz": -60
    },
    "id": "tPUheL-VnjSc"
   },
   "outputs": [],
   "source": [
    "# freq_cnt = 0\n",
    "# del_items = []\n",
    "\n",
    "# for k,v in product_cnt.items():\n",
    "#     if v>10:\n",
    "#         freq_cnt+=1\n",
    "#     else:\n",
    "#         del_items.append(k)\n",
    "# freq_cnt"
   ]
  },
  {
   "cell_type": "code",
   "execution_count": 19,
   "metadata": {
    "executionInfo": {
     "elapsed": 8,
     "status": "ok",
     "timestamp": 1646476530494,
     "user": {
      "displayName": "Maarten de Ruiter",
      "photoUrl": "https://lh3.googleusercontent.com/a/default-user=s64",
      "userId": "02394617415385259921"
     },
     "user_tz": -60
    },
    "id": "j4OpfXy6njSc"
   },
   "outputs": [],
   "source": [
    "# baskets_cln = []\n",
    "\n",
    "# for basket in tqdm(baskets):\n",
    "#     items = basket.split()\n",
    "#     #print(items)\n",
    "#     if items != None:\n",
    "#         for delete in del_items:\n",
    "#             if delete in items:\n",
    "#                 #print(delete)\n",
    "#                 #print(items)\n",
    "#                 items.remove(str(delete))\n",
    "#     baskets_cln.append(' '.join(items))"
   ]
  },
  {
   "cell_type": "code",
   "execution_count": 20,
   "metadata": {
    "executionInfo": {
     "elapsed": 7,
     "status": "ok",
     "timestamp": 1646476530494,
     "user": {
      "displayName": "Maarten de Ruiter",
      "photoUrl": "https://lh3.googleusercontent.com/a/default-user=s64",
      "userId": "02394617415385259921"
     },
     "user_tz": -60
    },
    "id": "cWLtUrIWnjSc"
   },
   "outputs": [],
   "source": [
    "#len(baskets_cln)"
   ]
  },
  {
   "cell_type": "code",
   "execution_count": 21,
   "metadata": {
    "executionInfo": {
     "elapsed": 7,
     "status": "ok",
     "timestamp": 1646476530494,
     "user": {
      "displayName": "Maarten de Ruiter",
      "photoUrl": "https://lh3.googleusercontent.com/a/default-user=s64",
      "userId": "02394617415385259921"
     },
     "user_tz": -60
    },
    "id": "GpzBmJbenjSc"
   },
   "outputs": [],
   "source": [
    "# baskets_fnl = []\n",
    "# for basket in baskets_cln:\n",
    "#     if len(basket.split()) > 1:\n",
    "#         baskets_fnl.append(basket)"
   ]
  },
  {
   "cell_type": "code",
   "execution_count": 22,
   "metadata": {
    "executionInfo": {
     "elapsed": 5,
     "status": "ok",
     "timestamp": 1646476530820,
     "user": {
      "displayName": "Maarten de Ruiter",
      "photoUrl": "https://lh3.googleusercontent.com/a/default-user=s64",
      "userId": "02394617415385259921"
     },
     "user_tz": -60
    },
    "id": "7WGflfwKnjSd",
    "tags": []
   },
   "outputs": [],
   "source": [
    "#len(baskets_fnl)"
   ]
  },
  {
   "cell_type": "code",
   "execution_count": 23,
   "metadata": {
    "executionInfo": {
     "elapsed": 5,
     "status": "ok",
     "timestamp": 1646476530821,
     "user": {
      "displayName": "Maarten de Ruiter",
      "photoUrl": "https://lh3.googleusercontent.com/a/default-user=s64",
      "userId": "02394617415385259921"
     },
     "user_tz": -60
    },
    "id": "hAc2G0_unjSd"
   },
   "outputs": [],
   "source": [
    "# baskets_pre_cln = baskets_fnl[:3747978]\n",
    "# baskets_train_cln = baskets_fnl[3747978:]"
   ]
  },
  {
   "cell_type": "code",
   "execution_count": 24,
   "metadata": {
    "executionInfo": {
     "elapsed": 4,
     "status": "ok",
     "timestamp": 1646476530821,
     "user": {
      "displayName": "Maarten de Ruiter",
      "photoUrl": "https://lh3.googleusercontent.com/a/default-user=s64",
      "userId": "02394617415385259921"
     },
     "user_tz": -60
    },
    "id": "bARAsHoxnjSd"
   },
   "outputs": [],
   "source": [
    "# len(baskets_pre_cln)\n",
    "#len(baskets_train_cln)"
   ]
  },
  {
   "cell_type": "code",
   "execution_count": 25,
   "metadata": {
    "executionInfo": {
     "elapsed": 4,
     "status": "ok",
     "timestamp": 1646476530821,
     "user": {
      "displayName": "Maarten de Ruiter",
      "photoUrl": "https://lh3.googleusercontent.com/a/default-user=s64",
      "userId": "02394617415385259921"
     },
     "user_tz": -60
    },
    "id": "fZKaDLGKnjSd"
   },
   "outputs": [],
   "source": [
    "# txt_file = open(\"data/data_pretraining_cln.txt\", \"w\")\n",
    "# for basket in baskets_pre_cln:\n",
    "#     txt_file.write(basket + \"\\n\")\n",
    "# txt_file.close()\n",
    "\n",
    "# txt_file = open(\"data/data_train_cln.txt\", \"w\")\n",
    "# for basket in baskets_train_cln:\n",
    "#     txt_file.write(basket + \"\\n\")\n",
    "# txt_file.close()"
   ]
  },
  {
   "cell_type": "markdown",
   "metadata": {
    "id": "fC0CflsmUh_f"
   },
   "source": [
    "# **Universal Tokenizer**\n",
    "\n",
    "Only run the code commented below, if you wish to make a new tokenizer."
   ]
  },
  {
   "cell_type": "code",
   "execution_count": 27,
   "metadata": {
    "executionInfo": {
     "elapsed": 209,
     "status": "ok",
     "timestamp": 1646476540075,
     "user": {
      "displayName": "Maarten de Ruiter",
      "photoUrl": "https://lh3.googleusercontent.com/a/default-user=s64",
      "userId": "02394617415385259921"
     },
     "user_tz": -60
    },
    "id": "fIfcMuaEbS40"
   },
   "outputs": [],
   "source": [
    "# #NIET RUNNEN\n",
    "# trainer = WordLevelTrainer(special_tokens=[\"<s>\", \"<pad>\", \"</s>\", \"<unk>\", \"<mask>\"],vocab_size=words+5) # Amount of products plus 5 special tokens is 30779\n",
    "\n",
    "# new_tokenizer = Tokenizer(WordLevel(unk_token=\"<unk>\"))\n",
    "# new_tokenizer.pre_tokenizer = WhitespaceSplit()\n",
    "\n",
    "# files = [\"/tmp/baskets.txt\"]\n",
    "# new_tokenizer.train(files, trainer)\n",
    "\n",
    "# new_tokenizer.post_processor = TemplateProcessing(\n",
    "#     single=f\"<s>:0 $A:0 </s>:0\",\n",
    "#     pair=f\"<s>:0 $A:0 </s>:0 $B:1 </s>:1\",\n",
    "#     special_tokens=[(\"<s>\", new_tokenizer.token_to_id(\"<s>\")), \n",
    "#                     (\"</s>\", new_tokenizer.token_to_id(\"</s>\"))]\n",
    "# )\n",
    "\n",
    "# new_tokenizer.save(TOKENIZER_PATH)"
   ]
  },
  {
   "cell_type": "code",
   "execution_count": 28,
   "metadata": {
    "executionInfo": {
     "elapsed": 350,
     "status": "ok",
     "timestamp": 1646476541359,
     "user": {
      "displayName": "Maarten de Ruiter",
      "photoUrl": "https://lh3.googleusercontent.com/a/default-user=s64",
      "userId": "02394617415385259921"
     },
     "user_tz": -60
    },
    "id": "V2ethjhZWoPI"
   },
   "outputs": [],
   "source": [
    "tokenizer = PreTrainedTokenizerFast(\n",
    "    tokenizer_file=TOKENIZER_PATH, # You can load from the tokenizer file\n",
    "    eos_token= \"</s>\",\n",
    "    bos_token= \"<s>\",\n",
    "    unk_token= \"<unk>\",\n",
    "    pad_token= \"<pad>\",\n",
    "    mask_token= \"<mask>\",\n",
    "    cls_token=\"<s>\",\n",
    "    sep_token=\"</s>\",\n",
    "    truncation_side='left'\n",
    ")"
   ]
  },
  {
   "cell_type": "code",
   "execution_count": 29,
   "metadata": {
    "colab": {
     "base_uri": "https://localhost:8080/"
    },
    "executionInfo": {
     "elapsed": 214,
     "status": "ok",
     "timestamp": 1646476544571,
     "user": {
      "displayName": "Maarten de Ruiter",
      "photoUrl": "https://lh3.googleusercontent.com/a/default-user=s64",
      "userId": "02394617415385259921"
     },
     "user_tz": -60
    },
    "id": "YDo2gez_njSf",
    "outputId": "52393f10-225f-4981-cb97-f5c5e7bb3a88"
   },
   "outputs": [
    {
     "data": {
      "text/plain": [
       "26722"
      ]
     },
     "execution_count": 29,
     "metadata": {},
     "output_type": "execute_result"
    }
   ],
   "source": [
    "tokenizer.vocab_size"
   ]
  },
  {
   "cell_type": "markdown",
   "metadata": {
    "id": "ECIfFcm-A4aw",
    "tags": []
   },
   "source": [
    "# **Pre-Train TF BERT**"
   ]
  },
  {
   "cell_type": "code",
   "execution_count": 30,
   "metadata": {
    "colab": {
     "base_uri": "https://localhost:8080/"
    },
    "executionInfo": {
     "elapsed": 3,
     "status": "ok",
     "timestamp": 1646476545236,
     "user": {
      "displayName": "Maarten de Ruiter",
      "photoUrl": "https://lh3.googleusercontent.com/a/default-user=s64",
      "userId": "02394617415385259921"
     },
     "user_tz": -60
    },
    "id": "QiFHqZVdnjSf",
    "outputId": "2954aba5-e4ab-425e-90e6-e73de6691250"
   },
   "outputs": [
    {
     "data": {
      "text/plain": [
       "1250000"
      ]
     },
     "execution_count": 30,
     "metadata": {},
     "output_type": "execute_result"
    }
   ],
   "source": [
    "baskets = df_org['baskets'].to_list()\n",
    "len(baskets)"
   ]
  },
  {
   "cell_type": "code",
   "execution_count": 32,
   "metadata": {
    "executionInfo": {
     "elapsed": 2682,
     "status": "ok",
     "timestamp": 1646476548636,
     "user": {
      "displayName": "Maarten de Ruiter",
      "photoUrl": "https://lh3.googleusercontent.com/a/default-user=s64",
      "userId": "02394617415385259921"
     },
     "user_tz": -60
    },
    "id": "UDNJ9O0AbSN6"
   },
   "outputs": [],
   "source": [
    "basket_a, basket_b = [], []\n",
    "\n",
    "for basket in baskets:\n",
    "    basket = basket.split(\" \")\n",
    "    basket_size = len(basket)\n",
    "    basket_split = ceil(basket_size/2)\n",
    "    basket_a.append(' '.join(basket[:basket_split]))\n",
    "    basket_b.append(' '.join(basket[basket_split:]))"
   ]
  },
  {
   "cell_type": "code",
   "execution_count": 36,
   "metadata": {
    "executionInfo": {
     "elapsed": 3274,
     "status": "ok",
     "timestamp": 1646476551907,
     "user": {
      "displayName": "Maarten de Ruiter",
      "photoUrl": "https://lh3.googleusercontent.com/a/default-user=s64",
      "userId": "02394617415385259921"
     },
     "user_tz": -60
    },
    "id": "AgQe3xfLwnqY"
   },
   "outputs": [],
   "source": [
    "num_baskets = len(baskets)\n",
    "basket_start, basket_end, labels = [], [], []\n",
    "\n",
    "\n",
    "for i, start in enumerate(basket_a):\n",
    "    end_idx = random.randint(0,num_baskets-1)\n",
    "\n",
    "    # First case is correct remaining basket (labels = 0)\n",
    "    if random.random() > 0.5:\n",
    "        end = basket_b[i]\n",
    "        basket_start.append(start)\n",
    "        basket_end.append(end)\n",
    "        labels.append(0)\n",
    "\n",
    "      # Second case is random remaining basket (labels = 1)\n",
    "    else:\n",
    "    # If index is the same, choose new random integer\n",
    "        while end_idx == i:\n",
    "            end_idx = random.randint(0,num_baskets-1)\n",
    "\n",
    "        end = basket_b[end_idx]\n",
    "        basket_start.append(start)\n",
    "        basket_end.append(end)\n",
    "        labels.append(1)"
   ]
  },
  {
   "cell_type": "code",
   "execution_count": null,
   "metadata": {
    "colab": {
     "base_uri": "https://localhost:8080/"
    },
    "id": "kyWALyjvpuZy",
    "outputId": "7a80a993-ff5a-40c9-f567-e83af4177104"
   },
   "outputs": [
    {
     "name": "stderr",
     "output_type": "stream",
     "text": [
      "100%|██████████| 1250000/1250000 [00:01<00:00, 1126133.73it/s]\n"
     ]
    }
   ],
   "source": [
    "train_basket_start, train_basket_end, train_labels = [], [], []\n",
    "val_basket_start, val_basket_end, val_labels = [], [], []\n",
    "basket_start_ls,basket_end_ls,labels_ls = [],[],[]\n",
    "\n",
    "for i, _ in enumerate(tqdm(basket_start)):\n",
    "   \n",
    "    basket_start_ls.append(basket_start[i])\n",
    "    basket_end_ls.append(basket_end[i])\n",
    "    labels_ls.append(labels[i])\n",
    "\n",
    "inputs = tokenizer(basket_start,basket_end, return_tensors='tf',\n",
    "          max_length=60, truncation=True, padding='max_length')\n"
   ]
  },
  {
   "cell_type": "code",
   "execution_count": null,
   "metadata": {
    "id": "HUmv0KF2TH4k",
    "tags": []
   },
   "outputs": [],
   "source": [
    "inputs['next_sentence_label'] = tf.squeeze(tf.transpose(tf.convert_to_tensor(labels, dtype=tf.float32)))\n",
    "inputs['labels'] = tf.fill(inputs['input_ids'].shape, -100)"
   ]
  },
  {
   "cell_type": "code",
   "execution_count": null,
   "metadata": {
    "colab": {
     "base_uri": "https://localhost:8080/"
    },
    "id": "U2WjOhDHc9dE",
    "outputId": "5c441037-c4e5-461a-e633-f6d8e691c31c"
   },
   "outputs": [
    {
     "data": {
      "text/plain": [
       "dict_keys(['input_ids', 'token_type_ids', 'attention_mask', 'next_sentence_label', 'labels'])"
      ]
     },
     "execution_count": 47,
     "metadata": {},
     "output_type": "execute_result"
    }
   ],
   "source": [
    "inputs.keys()"
   ]
  },
  {
   "cell_type": "code",
   "execution_count": null,
   "metadata": {
    "id": "-bjWiaTbc-sF",
    "tags": []
   },
   "outputs": [],
   "source": [
    "with tf.device('/cpu:0'):\n",
    "    rand = tf.random.Generator.from_seed(1)\n",
    "    rand = rand.uniform(shape=[len(inputs['input_ids']),60])\n",
    "    \n",
    "    mask_rand = tf.random.Generator.from_seed(2)\n",
    "    mask_rand = mask_rand.uniform(shape=[len(inputs['input_ids']),60])\n",
    "    \n",
    "    rand_item = tf.random.Generator.from_seed(3)\n",
    "    rand_item = rand_item.uniform(minval=5, maxval=tokenizer.vocab_size,\n",
    "                                        shape=[len(inputs['input_ids']),60],\n",
    "                                        dtype=tf.dtypes.int32\n",
    "                                       )"
   ]
  },
  {
   "cell_type": "code",
   "execution_count": null,
   "metadata": {
    "id": "UOO7sfT_dKB7"
   },
   "outputs": [],
   "source": [
    "# Mask 15% of tokens except for [CLS], [SEP], and [PAD] !!!!NOTE\n",
    "mask_arr = (rand < 0.15) & (inputs['input_ids'] != 0) & (inputs['input_ids'] != 1) & (inputs['input_ids'] != 2)"
   ]
  },
  {
   "cell_type": "code",
   "execution_count": null,
   "metadata": {
    "id": "J8oq29LVnjSn"
   },
   "outputs": [],
   "source": [
    "# set 20% of the labels equal to the corresponsing input_ids\n",
    "inputs['labels'] = tf.where(~mask_arr, inputs['labels'], inputs['input_ids'])\n",
    "# mask the corresponding 20% of the input_ids\n",
    "inputs['input_ids'] = tf.where(~mask_arr, inputs['input_ids'], 4)"
   ]
  },
  {
   "cell_type": "code",
   "execution_count": null,
   "metadata": {
    "id": "ioAx-dGxnjSn"
   },
   "outputs": [],
   "source": [
    "# 10% of the masks is set back to the true token\n",
    "true_arr = mask_arr & (mask_rand < 0.10)\n",
    "inputs['input_ids'] = tf.where(~true_arr, inputs['input_ids'], inputs['labels'])"
   ]
  },
  {
   "cell_type": "code",
   "execution_count": null,
   "metadata": {
    "id": "xRyF23qrnjSn"
   },
   "outputs": [],
   "source": [
    "# 10% of the masks is set to a random token\n",
    "rand_arr = mask_arr & (mask_rand > 0.90)\n",
    "inputs['input_ids'] = tf.where(~rand_arr, inputs['input_ids'], rand_item)"
   ]
  },
  {
   "cell_type": "code",
   "execution_count": null,
   "metadata": {
    "id": "EwBDRriknjSo"
   },
   "outputs": [],
   "source": [
    "BATCH_SIZE = 12\n",
    "BUFFER_SIZE = 1000\n",
    "LEARNING_RATE=2e-5\n",
    "DISABLE_LR_SCHEDULE=False\n",
    "NUM_EPOCHS = 3"
   ]
  },
  {
   "cell_type": "code",
   "execution_count": null,
   "metadata": {
    "id": "CVkSylSznjSp"
   },
   "outputs": [],
   "source": [
    "class Checkpoint(tf.keras.callbacks.Callback):\n",
    "    def __init__(self, dir):\n",
    "        super(Checkpoint, self).__init__()\n",
    "\n",
    "        self.dir = dir\n",
    "\n",
    "    def on_epoch_end(self, epoch, logs=None):\n",
    "        checkpoint_dir = os.path.join(self.dir, f'checkpoint-{epoch}')\n",
    "\n",
    "        if not os.path.exists(checkpoint_dir):\n",
    "            os.makedirs(checkpoint_dir)\n",
    "\n",
    "        self.model.save_pretrained(checkpoint_dir)\n",
    "\n",
    "    def on_train_end(self, logs=None):\n",
    "        checkpoint_dir = os.path.join(self.dir, 'final_epoch')\n",
    "\n",
    "        if not os.path.exists(checkpoint_dir):\n",
    "            os.makedirs(checkpoint_dir)\n",
    "\n",
    "        self.model.save_pretrained(checkpoint_dir)"
   ]
  },
  {
   "cell_type": "code",
   "execution_count": null,
   "metadata": {
    "id": "V7J0ZfeUnjSp"
   },
   "outputs": [],
   "source": [
    "checkpoint_callback = Checkpoint(CHECKPOINT_PATH)"
   ]
  },
  {
   "cell_type": "code",
   "execution_count": null,
   "metadata": {
    "id": "TgZYv7fPnjSp",
    "outputId": "f5624f22-cdc4-495f-d622-518bb39c468f"
   },
   "outputs": [
    {
     "data": {
      "text/plain": [
       "26722"
      ]
     },
     "execution_count": 77,
     "metadata": {},
     "output_type": "execute_result"
    }
   ],
   "source": [
    "tokenizer.vocab_size"
   ]
  },
  {
   "cell_type": "code",
   "execution_count": null,
   "metadata": {
    "id": "_29KdlgE6hnm"
   },
   "outputs": [],
   "source": [
    "from transformers import BertConfig\n",
    "\n",
    "config = BertConfig(\n",
    "    vocab_size=tokenizer.vocab_size,\n",
    "    max_position_embeddings=60,\n",
    "    hidden_size=768,\n",
    "    num_attention_heads=6,\n",
    "    num_hidden_layers=6,\n",
    "    cls_token_id = 0,\n",
    "    sep_token_id = 2\n",
    ")"
   ]
  },
  {
   "cell_type": "code",
   "execution_count": null,
   "metadata": {
    "id": "nSLDbR5jnjSp"
   },
   "outputs": [],
   "source": [
    "from transformers import TFBertForPreTraining,TFBertForMaskedLM\n",
    "#uncomment to load checkpoint\n",
    "#bert_model = TFBertForPreTraining.from_pretrained(CHECKPOINT_PATH)"
   ]
  },
  {
   "cell_type": "code",
   "execution_count": null,
   "metadata": {
    "id": "rw7gmuLSnjSp"
   },
   "outputs": [],
   "source": [
    "train_indices = list(range(round(len(inputs['input_ids'])*0.8)))\n",
    "val_indices=list(range(round(len(inputs['input_ids'])*0.8),len(inputs['input_ids'])))"
   ]
  },
  {
   "cell_type": "code",
   "execution_count": null,
   "metadata": {
    "id": "vEevxPZcnjSq"
   },
   "outputs": [],
   "source": [
    "from typing import Union, List\n",
    "\n",
    "def shape_list(tensor: Union[tf.Tensor, np.ndarray]) -> List[int]:\n",
    "    \"\"\"\n",
    "    Deal with dynamic shape in tensorflow cleanly.\n",
    "    Args:\n",
    "        tensor (`tf.Tensor` or `np.ndarray`): The tensor we want the shape of.\n",
    "    Returns:\n",
    "        `List[int]`: The shape of the tensor as a list.\n",
    "    \"\"\"\n",
    "    if isinstance(tensor, np.ndarray):\n",
    "        return list(tensor.shape)\n",
    "\n",
    "    dynamic = tf.shape(tensor)\n",
    "\n",
    "    if tensor.shape == tf.TensorShape(None):\n",
    "        return dynamic\n",
    "\n",
    "    static = tensor.shape.as_list()\n",
    "\n",
    "    return [dynamic[i] if s is None else s for i, s in enumerate(static)]"
   ]
  },
  {
   "cell_type": "code",
   "execution_count": null,
   "metadata": {
    "id": "0YmmfTTGnjSq"
   },
   "outputs": [],
   "source": [
    "@tf.function\n",
    "def compute_loss(labels, logits):\n",
    "        loss_fn = tf.keras.losses.SparseCategoricalCrossentropy(\n",
    "            from_logits=True, reduction=tf.keras.losses.Reduction.NONE\n",
    "        )\n",
    "        \n",
    "        # make sure only labels that are not equal to -100\n",
    "        # are taken into account as loss\n",
    "        masked_lm_active_loss = tf.not_equal(tf.reshape(tensor=labels[\"labels\"], shape=(-1,)), -100)\n",
    "        masked_lm_reduced_logits = tf.boolean_mask(\n",
    "            tensor=tf.reshape(tensor=logits[0], shape=(-1, shape_list(logits[0])[2])),\n",
    "            mask=masked_lm_active_loss,\n",
    "        )\n",
    "        masked_lm_labels = tf.boolean_mask(\n",
    "            tensor=tf.reshape(tensor=labels[\"labels\"], shape=(-1,)), mask=masked_lm_active_loss\n",
    "        )\n",
    "        next_sentence_active_loss = tf.not_equal(tf.reshape(tensor=labels[\"next_sentence_label\"], shape=(-1,)), -100)\n",
    "        next_sentence_reduced_logits = tf.boolean_mask(\n",
    "            tensor=tf.reshape(tensor=logits[1], shape=(-1, 2)), mask=next_sentence_active_loss\n",
    "        )\n",
    "        next_sentence_label = tf.boolean_mask(\n",
    "            tensor=tf.reshape(tensor=labels[\"next_sentence_label\"], shape=(-1,)), mask=next_sentence_active_loss\n",
    "        )\n",
    "        masked_lm_loss = loss_fn(y_true=masked_lm_labels, y_pred=masked_lm_reduced_logits)\n",
    "        next_sentence_loss = loss_fn(y_true=next_sentence_label, y_pred=next_sentence_reduced_logits)\n",
    "        masked_lm_loss = tf.reduce_mean(input_tensor=masked_lm_loss, axis=0)\n",
    "\n",
    "        return masked_lm_loss + next_sentence_loss"
   ]
  },
  {
   "cell_type": "code",
   "execution_count": null,
   "metadata": {
    "id": "tqhNC6s5njSq"
   },
   "outputs": [],
   "source": [
    "@tf.function\n",
    "def train_step(input_ids,token_type_ids,attention_mask,next_sentence_label,labels):\n",
    "\n",
    "    with tf.GradientTape() as tape:\n",
    "        tape.watch(bert_model.trainable_variables)\n",
    "        \n",
    "        output = bert_model(input_ids=input_ids,\n",
    "                             token_type_ids=token_type_ids,\n",
    "                             attention_mask=attention_mask,\n",
    "                             training=True)\n",
    "        \n",
    "        d_labels = {\"labels\": labels}\n",
    "        d_labels[\"next_sentence_label\"] = next_sentence_label\n",
    "        logits=(output['prediction_logits'], output['seq_relationship_logits'])\n",
    "        \n",
    "        loss = tf.math.reduce_mean(compute_loss(d_labels, logits))\n",
    "        \n",
    "    grads = tape.gradient(loss, bert_model.trainable_weights)\n",
    "    optimizer.apply_gradients(zip(grads, bert_model.trainable_weights))\n",
    "\n",
    "    \n",
    "    return loss\n",
    "\n",
    "@tf.function\n",
    "def val_step(input_ids,token_type_ids,attention_mask,next_sentence_label,labels):\n",
    "        \n",
    "    output = bert_model(input_ids=input_ids,\n",
    "                         token_type_ids=token_type_ids,\n",
    "                         attention_mask=attention_mask,\n",
    "                         training=True)\n",
    "\n",
    "    d_labels = {\"labels\": labels}\n",
    "    d_labels[\"next_sentence_label\"] = next_sentence_label\n",
    "    logits=(output['prediction_logits'], output['seq_relationship_logits'])\n",
    "\n",
    "    val_loss = tf.math.reduce_mean(compute_loss(d_labels, logits))\n",
    "    \n",
    "    return val_loss"
   ]
  },
  {
   "cell_type": "markdown",
   "metadata": {
    "id": "U99LWq0nnjSq",
    "tags": []
   },
   "source": [
    "## Custom TF BERT Pre train"
   ]
  },
  {
   "cell_type": "code",
   "execution_count": null,
   "metadata": {
    "colab": {
     "referenced_widgets": [
      "2909c5e36dca4de699b6e1d2aa35e773",
      "c84531328a4546d591996da27d6c60c3",
      "8c126c3fe4894f53ac0bb472c541daaf",
      "d6fe1c26a42e4292b19d79f7ae636b94",
      "6faf06c893274d309c0821b9fd6ff076",
      "ca9390bcfd4548f9909a93eed8c2fde2"
     ]
    },
    "id": "Iu8S3MannjSq",
    "outputId": "49b2a636-2040-4e5a-95af-ffbe123682f5",
    "tags": []
   },
   "outputs": [
    {
     "data": {
      "application/vnd.jupyter.widget-view+json": {
       "model_id": "2909c5e36dca4de699b6e1d2aa35e773",
       "version_major": 2,
       "version_minor": 0
      },
      "text/plain": [
       "  0%|          | 0/833 [00:00<?, ?it/s]"
      ]
     },
     "metadata": {},
     "output_type": "display_data"
    },
    {
     "name": "stderr",
     "output_type": "stream",
     "text": [
      "2022-03-04 21:28:25.515520: W tensorflow/core/platform/profile_utils/cpu_utils.cc:128] Failed to get CPU frequency: 0 Hz\n",
      "2022-03-04 21:28:25.516295: I tensorflow/core/grappler/optimizers/custom_graph_optimizer_registry.cc:112] Plugin optimizer for device_type GPU is enabled.\n",
      "/var/folders/dq/2kwdjtnx3y97gccm88sq35x40000gn/T/ipykernel_83972/2129440662.py:54: RuntimeWarning: divide by zero encountered in double_scalars\n",
      "  avg_loss = sum(losses)/k\n"
     ]
    },
    {
     "data": {
      "application/vnd.jupyter.widget-view+json": {
       "model_id": "c84531328a4546d591996da27d6c60c3",
       "version_major": 2,
       "version_minor": 0
      },
      "text/plain": [
       "  0%|          | 0/208 [00:00<?, ?it/s]"
      ]
     },
     "metadata": {},
     "output_type": "display_data"
    },
    {
     "name": "stderr",
     "output_type": "stream",
     "text": [
      "2022-03-04 21:31:22.985117: I tensorflow/core/grappler/optimizers/custom_graph_optimizer_registry.cc:112] Plugin optimizer for device_type GPU is enabled.\n",
      "/var/folders/dq/2kwdjtnx3y97gccm88sq35x40000gn/T/ipykernel_83972/2129440662.py:79: RuntimeWarning: divide by zero encountered in double_scalars\n",
      "  avg_val_loss = sum(val_losses)/k\n"
     ]
    },
    {
     "data": {
      "application/vnd.jupyter.widget-view+json": {
       "model_id": "8c126c3fe4894f53ac0bb472c541daaf",
       "version_major": 2,
       "version_minor": 0
      },
      "text/plain": [
       "  0%|          | 0/833 [00:00<?, ?it/s]"
      ]
     },
     "metadata": {},
     "output_type": "display_data"
    },
    {
     "data": {
      "application/vnd.jupyter.widget-view+json": {
       "model_id": "d6fe1c26a42e4292b19d79f7ae636b94",
       "version_major": 2,
       "version_minor": 0
      },
      "text/plain": [
       "  0%|          | 0/208 [00:00<?, ?it/s]"
      ]
     },
     "metadata": {},
     "output_type": "display_data"
    },
    {
     "data": {
      "application/vnd.jupyter.widget-view+json": {
       "model_id": "6faf06c893274d309c0821b9fd6ff076",
       "version_major": 2,
       "version_minor": 0
      },
      "text/plain": [
       "  0%|          | 0/833 [00:00<?, ?it/s]"
      ]
     },
     "metadata": {},
     "output_type": "display_data"
    },
    {
     "data": {
      "application/vnd.jupyter.widget-view+json": {
       "model_id": "ca9390bcfd4548f9909a93eed8c2fde2",
       "version_major": 2,
       "version_minor": 0
      },
      "text/plain": [
       "  0%|          | 0/208 [00:00<?, ?it/s]"
      ]
     },
     "metadata": {},
     "output_type": "display_data"
    }
   ],
   "source": [
    "losses_fnl, val_losses_fnl = [],[] \n",
    "optimizer = AdamWeightDecay(learning_rate=LEARNING_RATE, weight_decay_rate=0.01)\n",
    "train_inputs = {}\n",
    "val_inputs = {}\n",
    "\n",
    "train_inputs['input_ids'] = tf.gather(inputs['input_ids'], indices = train_indices)\n",
    "train_inputs['token_type_ids'] = tf.gather(inputs['token_type_ids'], indices = train_indices)\n",
    "train_inputs['attention_mask'] = tf.gather(inputs['attention_mask'], indices = train_indices)\n",
    "train_inputs['next_sentence_label'] = tf.gather(inputs['next_sentence_label'], indices = train_indices)\n",
    "train_inputs['labels'] = tf.gather(inputs['labels'], indices = train_indices)\n",
    "\n",
    "val_inputs['input_ids'] = tf.gather(inputs['input_ids'], indices = val_indices)\n",
    "val_inputs['token_type_ids'] = tf.gather(inputs['token_type_ids'], indices = val_indices)\n",
    "val_inputs['attention_mask'] = tf.gather(inputs['attention_mask'], indices = val_indices)\n",
    "val_inputs['next_sentence_label'] = tf.gather(inputs['next_sentence_label'], indices = val_indices)\n",
    "val_inputs['labels'] = tf.gather(inputs['labels'], indices = val_indices)\n",
    "\n",
    "for epoch in range(NUM_EPOCHS):\n",
    "    \n",
    "    losses, val_losses = [],[] \n",
    "    \n",
    "    train_loader = tf.data.Dataset.from_tensor_slices((train_inputs['input_ids'],\n",
    "                                                       train_inputs['token_type_ids'],\n",
    "                                                       train_inputs['attention_mask'],\n",
    "                                                       train_inputs['next_sentence_label'],\n",
    "                                                       train_inputs['labels']\n",
    "                                                      )).batch(BATCH_SIZE,drop_remainder=True)\n",
    "    \n",
    "    val_loader = tf.data.Dataset.from_tensor_slices((val_inputs['input_ids'],\n",
    "                                                     val_inputs['token_type_ids'],\n",
    "                                                     val_inputs['attention_mask'],\n",
    "                                                     val_inputs['next_sentence_label'],\n",
    "                                                     val_inputs['labels']\n",
    "                                                    )).batch(BATCH_SIZE,drop_remainder=True)\n",
    "    \n",
    "    train_loop = notebook.tqdm(train_loader, position=0, leave=True, colour='green')\n",
    "    \n",
    "    for k, batch in enumerate(train_loop):\n",
    "        \n",
    "        input_ids = batch[0]\n",
    "        token_type_ids = batch[1]\n",
    "        attention_mask = batch[2]\n",
    "        next_sentence_label = batch[3]\n",
    "        labels = batch[4]\n",
    "        \n",
    "        loss = train_step(input_ids,\n",
    "                          token_type_ids,\n",
    "                          attention_mask,\n",
    "                          next_sentence_label,\n",
    "                          labels\n",
    "                         )\n",
    "        \n",
    "        losses.append(loss.numpy())\n",
    "        avg_loss = sum(losses)/k\n",
    "        \n",
    "        train_loop.set_postfix(Epoch= epoch, loss=avg_loss, data=\"train\", lr=LEARNING_RATE)\n",
    "    \n",
    "    # ZORG DAT JE HET MAPJE 'models' HEBT MET DAARIN 'bert'\n",
    "    bert_model.save_pretrained(f'models/bert/bert_wordlevel-{epoch}')\n",
    "    \n",
    "    val_loop = notebook.tqdm(val_loader, position=0, leave=True, colour='yellow')\n",
    "    \n",
    "    for k, batch in enumerate(val_loop):\n",
    "        \n",
    "        input_ids = batch[0]\n",
    "        token_type_ids = batch[1]\n",
    "        attention_mask = batch[2]\n",
    "        next_sentence_label = batch[3]\n",
    "        labels = batch[4]\n",
    "        \n",
    "        val_loss = val_step(input_ids,\n",
    "                            token_type_ids,\n",
    "                            attention_mask,\n",
    "                            next_sentence_label,\n",
    "                            labels\n",
    "                           )\n",
    "\n",
    "        val_losses.append(val_loss.numpy())\n",
    "        avg_val_loss = sum(val_losses)/k\n",
    "        \n",
    "        val_loop.set_postfix(Epoch= epoch, val_loss=avg_val_loss, data=\"validation\", lr=LEARNING_RATE)\n",
    "        \n",
    "    losses_fnl.append(avg_loss)\n",
    "    val_losses_fnl.append(avg_val_loss)\n",
    "    "
   ]
  }
 ],
 "metadata": {
  "accelerator": "GPU",
  "colab": {
   "collapsed_sections": [
    "7Gfqynch6OhG",
    "ECIfFcm-A4aw"
   ],
   "name": "tf_BERT_pretrain_MLM.ipynb",
   "provenance": []
  },
  "kernelspec": {
   "display_name": "Python 3 (ipykernel)",
   "language": "python",
   "name": "python3"
  },
  "language_info": {
   "codemirror_mode": {
    "name": "ipython",
    "version": 3
   },
   "file_extension": ".py",
   "mimetype": "text/x-python",
   "name": "python",
   "nbconvert_exporter": "python",
   "pygments_lexer": "ipython3",
   "version": "3.8.12"
  }
 },
 "nbformat": 4,
 "nbformat_minor": 4
}
